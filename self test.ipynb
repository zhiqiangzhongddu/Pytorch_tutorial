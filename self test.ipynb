{
 "cells": [
  {
   "cell_type": "code",
   "execution_count": 54,
   "metadata": {},
   "outputs": [],
   "source": [
    "import numpy as np\n",
    "import torch \n",
    "import torch.nn.functional as F\n",
    "import torch.nn as nn\n",
    "from torch.autograd import Variable\n",
    "\n",
    "%matplotlib inline"
   ]
  },
  {
   "cell_type": "code",
   "execution_count": 55,
   "metadata": {},
   "outputs": [],
   "source": [
    "input = torch.randn(3, 5, requires_grad=True)\n",
    "target = torch.randint(5, (3,), dtype=torch.int64)"
   ]
  },
  {
   "cell_type": "code",
   "execution_count": 56,
   "metadata": {},
   "outputs": [
    {
     "data": {
      "text/plain": [
       "tensor([[ 0.5462,  0.8520, -0.0598,  0.5314, -0.5981],\n",
       "        [ 0.0007,  0.4675,  1.3673, -0.3503, -0.1712],\n",
       "        [ 0.3858,  1.2548,  1.1333, -0.9658, -0.3106]])"
      ]
     },
     "execution_count": 56,
     "metadata": {},
     "output_type": "execute_result"
    }
   ],
   "source": [
    "input"
   ]
  },
  {
   "cell_type": "code",
   "execution_count": 57,
   "metadata": {},
   "outputs": [
    {
     "data": {
      "text/plain": [
       "tensor([ 3,  2,  4])"
      ]
     },
     "execution_count": 57,
     "metadata": {},
     "output_type": "execute_result"
    }
   ],
   "source": [
    "target"
   ]
  },
  {
   "cell_type": "code",
   "execution_count": 58,
   "metadata": {},
   "outputs": [
    {
     "data": {
      "text/plain": [
       "tensor(1.5672)"
      ]
     },
     "execution_count": 58,
     "metadata": {},
     "output_type": "execute_result"
    }
   ],
   "source": [
    "loss = F.cross_entropy(input, target)\n",
    "loss.backward()\n",
    "\n",
    "loss"
   ]
  },
  {
   "cell_type": "code",
   "execution_count": 59,
   "metadata": {},
   "outputs": [
    {
     "data": {
      "text/plain": [
       "tensor(1.5672)"
      ]
     },
     "execution_count": 59,
     "metadata": {},
     "output_type": "execute_result"
    }
   ],
   "source": [
    "loss = nn.CrossEntropyLoss()\n",
    "\n",
    "output = loss(input, target)\n",
    "output.backward()\n",
    "\n",
    "output"
   ]
  },
  {
   "cell_type": "code",
   "execution_count": null,
   "metadata": {},
   "outputs": [],
   "source": []
  },
  {
   "cell_type": "code",
   "execution_count": 60,
   "metadata": {},
   "outputs": [],
   "source": [
    "input = torch.randn((3, 2), requires_grad=True)\n",
    "target = torch.rand((3, 2), requires_grad=False)"
   ]
  },
  {
   "cell_type": "code",
   "execution_count": 61,
   "metadata": {},
   "outputs": [
    {
     "data": {
      "text/plain": [
       "tensor([[ 1.0707,  1.2255],\n",
       "        [-1.2017, -0.6341],\n",
       "        [-1.3924,  0.3612]])"
      ]
     },
     "execution_count": 61,
     "metadata": {},
     "output_type": "execute_result"
    }
   ],
   "source": [
    "input"
   ]
  },
  {
   "cell_type": "code",
   "execution_count": 62,
   "metadata": {},
   "outputs": [
    {
     "data": {
      "text/plain": [
       "tensor([[ 0.4091,  0.4762],\n",
       "        [ 0.2096,  0.2924],\n",
       "        [ 0.1540,  0.4049]])"
      ]
     },
     "execution_count": 62,
     "metadata": {},
     "output_type": "execute_result"
    }
   ],
   "source": [
    "target"
   ]
  },
  {
   "cell_type": "code",
   "execution_count": 63,
   "metadata": {},
   "outputs": [
    {
     "data": {
      "text/plain": [
       "tensor(0.6888)"
      ]
     },
     "execution_count": 63,
     "metadata": {},
     "output_type": "execute_result"
    }
   ],
   "source": [
    "loss = F.binary_cross_entropy(F.sigmoid(input), target)\n",
    "loss.backward()\n",
    "\n",
    "loss"
   ]
  },
  {
   "cell_type": "code",
   "execution_count": 64,
   "metadata": {},
   "outputs": [
    {
     "data": {
      "text/plain": [
       "tensor([[ 1.0707,  1.2255],\n",
       "        [-1.2017, -0.6341],\n",
       "        [-1.3924,  0.3612]])"
      ]
     },
     "execution_count": 64,
     "metadata": {},
     "output_type": "execute_result"
    }
   ],
   "source": [
    "input"
   ]
  },
  {
   "cell_type": "code",
   "execution_count": 65,
   "metadata": {},
   "outputs": [
    {
     "data": {
      "text/plain": [
       "tensor([[ 0.4091,  0.4762],\n",
       "        [ 0.2096,  0.2924],\n",
       "        [ 0.1540,  0.4049]])"
      ]
     },
     "execution_count": 65,
     "metadata": {},
     "output_type": "execute_result"
    }
   ],
   "source": [
    "target"
   ]
  },
  {
   "cell_type": "code",
   "execution_count": 66,
   "metadata": {},
   "outputs": [
    {
     "data": {
      "text/plain": [
       "tensor([[ 0.7447,  0.7730],\n",
       "        [ 0.2312,  0.3466],\n",
       "        [ 0.1990,  0.5893]])"
      ]
     },
     "execution_count": 66,
     "metadata": {},
     "output_type": "execute_result"
    }
   ],
   "source": [
    "F.sigmoid(input)"
   ]
  },
  {
   "cell_type": "code",
   "execution_count": null,
   "metadata": {},
   "outputs": [],
   "source": []
  },
  {
   "cell_type": "code",
   "execution_count": null,
   "metadata": {},
   "outputs": [],
   "source": []
  },
  {
   "cell_type": "code",
   "execution_count": 67,
   "metadata": {},
   "outputs": [
    {
     "name": "stdout",
     "output_type": "stream",
     "text": [
      "tensor(1.00000e-07 *\n",
      "       [[ 1.1921,  0.0000, -0.2980],\n",
      "        [ 0.2980, -0.2980, -2.3842],\n",
      "        [ 0.0000,  0.5960,  0.0000],\n",
      "        [-0.2980,  0.2980,  0.5960],\n",
      "        [ 0.0000,  0.0000,  0.1490],\n",
      "        [-1.1921,  0.0000,  0.5960],\n",
      "        [ 0.0000,  2.3842, -1.1921],\n",
      "        [ 1.1921,  0.0000,  0.2980],\n",
      "        [ 0.0000,  1.1921,  1.1921],\n",
      "        [ 0.0000,  0.5960,  0.0000]])\n",
      "tensor(1.00000e-07 *\n",
      "       [[ 1.1921,  0.0000, -0.2980],\n",
      "        [ 0.2980, -0.5960, -2.3842],\n",
      "        [ 0.0000,  1.1921,  0.0000],\n",
      "        [-0.2980,  0.5960,  0.5960],\n",
      "        [ 0.0000,  0.0000,  0.1490],\n",
      "        [-1.1921,  0.0000,  0.5960],\n",
      "        [ 0.0000,  4.7684, -1.1921],\n",
      "        [ 1.1921,  0.0000,  0.2980],\n",
      "        [ 0.0000,  2.3842,  1.1921],\n",
      "        [ 0.0000,  1.1921,  0.0000]])\n",
      "tensor(1.00000e-07 *\n",
      "       [[ 1.1921,  0.0000, -0.2980],\n",
      "        [ 0.2980, -0.2980, -2.3842],\n",
      "        [ 0.0000,  0.5960,  0.0000],\n",
      "        [-0.2980,  0.2980,  0.5960],\n",
      "        [ 0.0000,  0.0000,  0.1490],\n",
      "        [-1.1921,  0.0000,  0.5960],\n",
      "        [ 0.0000,  2.3842, -1.1921],\n",
      "        [ 1.1921,  0.0000,  0.2980],\n",
      "        [ 0.0000,  1.1921,  1.1921],\n",
      "        [ 0.0000,  1.1921,  0.0000]])\n"
     ]
    }
   ],
   "source": [
    "x = Variable(torch.randn(10, 3))\n",
    "y = Variable(torch.FloatTensor(10, 3).random_(2))\n",
    "\n",
    "# double the loss for class 1\n",
    "class_weight = torch.FloatTensor([1.0, 2.0, 1.0])\n",
    "# double the loss for last sample\n",
    "element_weight = torch.FloatTensor([1.0]*9 + [2.0]).view(-1, 1)\n",
    "element_weight = element_weight.repeat(1, 3)\n",
    "\n",
    "bce_criterion = nn.BCEWithLogitsLoss(weight=None, reduce=False)\n",
    "multi_criterion = nn.MultiLabelSoftMarginLoss(weight=None, reduce=False)\n",
    "\n",
    "bce_criterion_class = nn.BCEWithLogitsLoss(weight=class_weight, reduce=False)\n",
    "multi_criterion_class = nn.MultiLabelSoftMarginLoss(weight=class_weight, reduce=False)\n",
    "\n",
    "bce_criterion_element = nn.BCEWithLogitsLoss(weight=element_weight, reduce=False)\n",
    "multi_criterion_element = nn.MultiLabelSoftMarginLoss(weight=element_weight, reduce=False)\n",
    "\n",
    "bce_loss = bce_criterion(x, y)\n",
    "multi_loss = multi_criterion(x, y)\n",
    "\n",
    "bce_loss_class = bce_criterion_class(x, y)\n",
    "multi_loss_class = multi_criterion_class(x, y)\n",
    "\n",
    "bce_loss_element = bce_criterion_element(x, y)\n",
    "multi_loss_element = multi_criterion_element(x, y)\n",
    "\n",
    "print(bce_loss - multi_loss)\n",
    "print(bce_loss_class - multi_loss_class)\n",
    "print(bce_loss_element - multi_loss_element)"
   ]
  },
  {
   "cell_type": "code",
   "execution_count": null,
   "metadata": {},
   "outputs": [],
   "source": []
  }
 ],
 "metadata": {
  "kernelspec": {
   "display_name": "Python 3",
   "language": "python",
   "name": "python3"
  },
  "language_info": {
   "codemirror_mode": {
    "name": "ipython",
    "version": 3
   },
   "file_extension": ".py",
   "mimetype": "text/x-python",
   "name": "python",
   "nbconvert_exporter": "python",
   "pygments_lexer": "ipython3",
   "version": "3.6.4"
  }
 },
 "nbformat": 4,
 "nbformat_minor": 2
}
